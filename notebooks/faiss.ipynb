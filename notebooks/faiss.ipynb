{
 "cells": [
  {
   "cell_type": "code",
   "execution_count": 8,
   "metadata": {},
   "outputs": [],
   "source": [
    "import ollama\n",
    "import numpy as np\n",
    "\n",
    "# Example text data\n",
    "documents = [\n",
    "    \"Python is a programming language that lets you work quickly.\",\n",
    "    \"Machine learning automates model building through data analysis.\",\n",
    "    \"Artificial Intelligence (AI) is intelligence demonstrated by machines.\",\n",
    "    \"Natural language processing (NLP) is a field of AI that focuses on human language interaction.\",\n",
    "]\n",
    "\n",
    "# Generate embeddings using Ollama\n",
    "def get_embeddings(documents, embedding_model=\"mxbai-embed-large\"):\n",
    "    embeddings = []\n",
    "    for doc in documents:\n",
    "        response = ollama.embeddings(model=embedding_model, prompt=doc)\n",
    "        embeddings.append(response[\"embedding\"])\n",
    "    # Convert embeddings to a NumPy array\n",
    "    embeddings = np.array(embeddings).astype(\"float32\")\n",
    "    return embeddings\n",
    "\n",
    "embeddings = get_embeddings(documents)\n",
    "\n"
   ]
  },
  {
   "cell_type": "code",
   "execution_count": 9,
   "metadata": {},
   "outputs": [
    {
     "name": "stdout",
     "output_type": "stream",
     "text": [
      "dimension=1024\n"
     ]
    }
   ],
   "source": [
    "import faiss\n",
    "\n",
    "# Define the dimensionality of the embeddings\n",
    "dimension = embeddings.shape[1]  # Number of features in each embedding\n",
    "\n",
    "print(f\"dimension={dimension}\")\n",
    "# Create a FAISS index\n",
    "index = faiss.IndexFlatL2(dimension)  # L2 distance for similarity search\n",
    "\n",
    "# Add embeddings to the index\n",
    "index.add(embeddings)"
   ]
  },
  {
   "cell_type": "code",
   "execution_count": 14,
   "metadata": {},
   "outputs": [
    {
     "name": "stdout",
     "output_type": "stream",
     "text": [
      "Indices of similar documents for search term:\n",
      "\t 'What is Natural Language Processing?':\t [[3 2]]\n",
      "Document 3: Natural language processing (NLP) is a field of AI that focuses on human language interaction.\n",
      "Document 2: Artificial Intelligence (AI) is intelligence demonstrated by machines.\n",
      "Distances to similar documents: [[ 81.82834 277.91656]]\n"
     ]
    }
   ],
   "source": [
    "# Query embedding (generate an embedding for the query)\n",
    "query = \"What is Natural Language Processing?\"\n",
    "\n",
    "def get_embedding(text, embedding_model=\"mxbai-embed-large\") -> np.ndarray:\n",
    "    response = ollama.embeddings(model=embedding_model, prompt=text)\n",
    "    embeddings = []\n",
    "    embeddings.append(response[\"embedding\"])\n",
    "    embeddings = np.array(embeddings).astype('float32')\n",
    "    return embeddings\n",
    "\n",
    "\n",
    "query_embedding = get_embedding(query)\n",
    "\n",
    "# Search for the top-k most similar embeddings\n",
    "k = 2  # Number of nearest neighbors to retrieve\n",
    "distances, indices = index.search(query_embedding, k)\n",
    "\n",
    "# Print results\n",
    "query = \"What is Natural Language Processing?\"\n",
    "print(f\"Indices of similar documents for search term:\\n\\t '{query}':\\t\", indices)\n",
    "for i in indices[0]:\n",
    "    print(f\"Document {i}: {documents[i]}\")\n",
    "\n",
    "print(\"Distances to similar documents:\", distances)"
   ]
  },
  {
   "cell_type": "code",
   "execution_count": 8,
   "metadata": {},
   "outputs": [],
   "source": [
    "# Save the index to disk\n",
    "faiss.write_index(index, \"faiss_index.index\")\n",
    "\n",
    "# Load the index from disk\n",
    "loaded_index = faiss.read_index(\"faiss_index.index\")"
   ]
  }
 ],
 "metadata": {
  "kernelspec": {
   "display_name": "venv",
   "language": "python",
   "name": "python3"
  },
  "language_info": {
   "codemirror_mode": {
    "name": "ipython",
    "version": 3
   },
   "file_extension": ".py",
   "mimetype": "text/x-python",
   "name": "python",
   "nbconvert_exporter": "python",
   "pygments_lexer": "ipython3",
   "version": "3.11.9"
  }
 },
 "nbformat": 4,
 "nbformat_minor": 2
}
